{
  "nbformat": 4,
  "nbformat_minor": 0,
  "metadata": {
    "colab": {
      "provenance": []
    },
    "kernelspec": {
      "name": "python3",
      "display_name": "Python 3"
    },
    "language_info": {
      "name": "python"
    }
  },
  "cells": [
    {
      "cell_type": "code",
      "source": [
        "#dataset link: https://www.kaggle.com/datasets/thedevastator/hate-speech-and-offensive-language-detection"
      ],
      "metadata": {
        "id": "_QU9SkcijXT1"
      },
      "execution_count": null,
      "outputs": []
    },
    {
      "cell_type": "code",
      "source": [
        "#1.Import libraries\n",
        "import json\n",
        "import os\n",
        "import requests\n",
        "import pickle\n",
        "\n",
        "import pandas as pd\n",
        "import re\n",
        "import nltk\n",
        "nltk.download('stopwords')\n",
        "nltk.download('punkt')\n",
        "from nltk.corpus import stopwords\n",
        "from sklearn.model_selection import train_test_split\n",
        "from tensorflow.keras.preprocessing.text import Tokenizer\n",
        "from tensorflow.keras.preprocessing.sequence import pad_sequences\n",
        "from tensorflow.keras.models import Sequential\n",
        "from tensorflow.keras.layers import Embedding, LSTM, Dense, Dropout\n",
        "\n",
        "from keras.utils import to_categorical\n",
        "from keras import backend as K"
      ],
      "metadata": {
        "colab": {
          "base_uri": "https://localhost:8080/"
        },
        "id": "1MYBjWRij_zi",
        "outputId": "f7ac54c2-4100-499f-ca2c-149cd244df04"
      },
      "execution_count": 4,
      "outputs": [
        {
          "output_type": "stream",
          "name": "stderr",
          "text": [
            "[nltk_data] Downloading package stopwords to /root/nltk_data...\n",
            "[nltk_data]   Unzipping corpora/stopwords.zip.\n",
            "[nltk_data] Downloading package punkt to /root/nltk_data...\n",
            "[nltk_data]   Unzipping tokenizers/punkt.zip.\n"
          ]
        }
      ]
    },
    {
      "cell_type": "code",
      "source": [
        "#2.Read the data\n",
        "DATA_PATH = \"abuse_detect.csv\"\n",
        "LIST_PATH = \"abusive_list.csv\""
      ],
      "metadata": {
        "id": "cTRpXJ9Rlo5H"
      },
      "execution_count": 40,
      "outputs": []
    },
    {
      "cell_type": "code",
      "source": [
        "data = pd.read_csv(DATA_PATH)\n",
        "data.head()\n",
        "list_data=pd.read_csv(LIST_PATH)\n",
        "list_data.head()"
      ],
      "metadata": {
        "colab": {
          "base_uri": "https://localhost:8080/",
          "height": 206
        },
        "id": "k-y6Nza_m4Jc",
        "outputId": "678e7e72-12ea-4ae8-b49f-e9ba00de855d"
      },
      "execution_count": 41,
      "outputs": [
        {
          "output_type": "execute_result",
          "data": {
            "text/plain": [
              "   abusive_words\n",
              "0  2 girls 1 cup\n",
              "1           2g1c\n",
              "2           4r5e\n",
              "3           5h1t\n",
              "4           5hit"
            ],
            "text/html": [
              "\n",
              "  <div id=\"df-155b5f06-8ed4-4cfb-9d66-eb720ad501ad\" class=\"colab-df-container\">\n",
              "    <div>\n",
              "<style scoped>\n",
              "    .dataframe tbody tr th:only-of-type {\n",
              "        vertical-align: middle;\n",
              "    }\n",
              "\n",
              "    .dataframe tbody tr th {\n",
              "        vertical-align: top;\n",
              "    }\n",
              "\n",
              "    .dataframe thead th {\n",
              "        text-align: right;\n",
              "    }\n",
              "</style>\n",
              "<table border=\"1\" class=\"dataframe\">\n",
              "  <thead>\n",
              "    <tr style=\"text-align: right;\">\n",
              "      <th></th>\n",
              "      <th>abusive_words</th>\n",
              "    </tr>\n",
              "  </thead>\n",
              "  <tbody>\n",
              "    <tr>\n",
              "      <th>0</th>\n",
              "      <td>2 girls 1 cup</td>\n",
              "    </tr>\n",
              "    <tr>\n",
              "      <th>1</th>\n",
              "      <td>2g1c</td>\n",
              "    </tr>\n",
              "    <tr>\n",
              "      <th>2</th>\n",
              "      <td>4r5e</td>\n",
              "    </tr>\n",
              "    <tr>\n",
              "      <th>3</th>\n",
              "      <td>5h1t</td>\n",
              "    </tr>\n",
              "    <tr>\n",
              "      <th>4</th>\n",
              "      <td>5hit</td>\n",
              "    </tr>\n",
              "  </tbody>\n",
              "</table>\n",
              "</div>\n",
              "    <div class=\"colab-df-buttons\">\n",
              "\n",
              "  <div class=\"colab-df-container\">\n",
              "    <button class=\"colab-df-convert\" onclick=\"convertToInteractive('df-155b5f06-8ed4-4cfb-9d66-eb720ad501ad')\"\n",
              "            title=\"Convert this dataframe to an interactive table.\"\n",
              "            style=\"display:none;\">\n",
              "\n",
              "  <svg xmlns=\"http://www.w3.org/2000/svg\" height=\"24px\" viewBox=\"0 -960 960 960\">\n",
              "    <path d=\"M120-120v-720h720v720H120Zm60-500h600v-160H180v160Zm220 220h160v-160H400v160Zm0 220h160v-160H400v160ZM180-400h160v-160H180v160Zm440 0h160v-160H620v160ZM180-180h160v-160H180v160Zm440 0h160v-160H620v160Z\"/>\n",
              "  </svg>\n",
              "    </button>\n",
              "\n",
              "  <style>\n",
              "    .colab-df-container {\n",
              "      display:flex;\n",
              "      gap: 12px;\n",
              "    }\n",
              "\n",
              "    .colab-df-convert {\n",
              "      background-color: #E8F0FE;\n",
              "      border: none;\n",
              "      border-radius: 50%;\n",
              "      cursor: pointer;\n",
              "      display: none;\n",
              "      fill: #1967D2;\n",
              "      height: 32px;\n",
              "      padding: 0 0 0 0;\n",
              "      width: 32px;\n",
              "    }\n",
              "\n",
              "    .colab-df-convert:hover {\n",
              "      background-color: #E2EBFA;\n",
              "      box-shadow: 0px 1px 2px rgba(60, 64, 67, 0.3), 0px 1px 3px 1px rgba(60, 64, 67, 0.15);\n",
              "      fill: #174EA6;\n",
              "    }\n",
              "\n",
              "    .colab-df-buttons div {\n",
              "      margin-bottom: 4px;\n",
              "    }\n",
              "\n",
              "    [theme=dark] .colab-df-convert {\n",
              "      background-color: #3B4455;\n",
              "      fill: #D2E3FC;\n",
              "    }\n",
              "\n",
              "    [theme=dark] .colab-df-convert:hover {\n",
              "      background-color: #434B5C;\n",
              "      box-shadow: 0px 1px 3px 1px rgba(0, 0, 0, 0.15);\n",
              "      filter: drop-shadow(0px 1px 2px rgba(0, 0, 0, 0.3));\n",
              "      fill: #FFFFFF;\n",
              "    }\n",
              "  </style>\n",
              "\n",
              "    <script>\n",
              "      const buttonEl =\n",
              "        document.querySelector('#df-155b5f06-8ed4-4cfb-9d66-eb720ad501ad button.colab-df-convert');\n",
              "      buttonEl.style.display =\n",
              "        google.colab.kernel.accessAllowed ? 'block' : 'none';\n",
              "\n",
              "      async function convertToInteractive(key) {\n",
              "        const element = document.querySelector('#df-155b5f06-8ed4-4cfb-9d66-eb720ad501ad');\n",
              "        const dataTable =\n",
              "          await google.colab.kernel.invokeFunction('convertToInteractive',\n",
              "                                                    [key], {});\n",
              "        if (!dataTable) return;\n",
              "\n",
              "        const docLinkHtml = 'Like what you see? Visit the ' +\n",
              "          '<a target=\"_blank\" href=https://colab.research.google.com/notebooks/data_table.ipynb>data table notebook</a>'\n",
              "          + ' to learn more about interactive tables.';\n",
              "        element.innerHTML = '';\n",
              "        dataTable['output_type'] = 'display_data';\n",
              "        await google.colab.output.renderOutput(dataTable, element);\n",
              "        const docLink = document.createElement('div');\n",
              "        docLink.innerHTML = docLinkHtml;\n",
              "        element.appendChild(docLink);\n",
              "      }\n",
              "    </script>\n",
              "  </div>\n",
              "\n",
              "\n",
              "<div id=\"df-3a2dff8d-ac82-4ca2-a454-9d58192bb558\">\n",
              "  <button class=\"colab-df-quickchart\" onclick=\"quickchart('df-3a2dff8d-ac82-4ca2-a454-9d58192bb558')\"\n",
              "            title=\"Suggest charts\"\n",
              "            style=\"display:none;\">\n",
              "\n",
              "<svg xmlns=\"http://www.w3.org/2000/svg\" height=\"24px\"viewBox=\"0 0 24 24\"\n",
              "     width=\"24px\">\n",
              "    <g>\n",
              "        <path d=\"M19 3H5c-1.1 0-2 .9-2 2v14c0 1.1.9 2 2 2h14c1.1 0 2-.9 2-2V5c0-1.1-.9-2-2-2zM9 17H7v-7h2v7zm4 0h-2V7h2v10zm4 0h-2v-4h2v4z\"/>\n",
              "    </g>\n",
              "</svg>\n",
              "  </button>\n",
              "\n",
              "<style>\n",
              "  .colab-df-quickchart {\n",
              "      --bg-color: #E8F0FE;\n",
              "      --fill-color: #1967D2;\n",
              "      --hover-bg-color: #E2EBFA;\n",
              "      --hover-fill-color: #174EA6;\n",
              "      --disabled-fill-color: #AAA;\n",
              "      --disabled-bg-color: #DDD;\n",
              "  }\n",
              "\n",
              "  [theme=dark] .colab-df-quickchart {\n",
              "      --bg-color: #3B4455;\n",
              "      --fill-color: #D2E3FC;\n",
              "      --hover-bg-color: #434B5C;\n",
              "      --hover-fill-color: #FFFFFF;\n",
              "      --disabled-bg-color: #3B4455;\n",
              "      --disabled-fill-color: #666;\n",
              "  }\n",
              "\n",
              "  .colab-df-quickchart {\n",
              "    background-color: var(--bg-color);\n",
              "    border: none;\n",
              "    border-radius: 50%;\n",
              "    cursor: pointer;\n",
              "    display: none;\n",
              "    fill: var(--fill-color);\n",
              "    height: 32px;\n",
              "    padding: 0;\n",
              "    width: 32px;\n",
              "  }\n",
              "\n",
              "  .colab-df-quickchart:hover {\n",
              "    background-color: var(--hover-bg-color);\n",
              "    box-shadow: 0 1px 2px rgba(60, 64, 67, 0.3), 0 1px 3px 1px rgba(60, 64, 67, 0.15);\n",
              "    fill: var(--button-hover-fill-color);\n",
              "  }\n",
              "\n",
              "  .colab-df-quickchart-complete:disabled,\n",
              "  .colab-df-quickchart-complete:disabled:hover {\n",
              "    background-color: var(--disabled-bg-color);\n",
              "    fill: var(--disabled-fill-color);\n",
              "    box-shadow: none;\n",
              "  }\n",
              "\n",
              "  .colab-df-spinner {\n",
              "    border: 2px solid var(--fill-color);\n",
              "    border-color: transparent;\n",
              "    border-bottom-color: var(--fill-color);\n",
              "    animation:\n",
              "      spin 1s steps(1) infinite;\n",
              "  }\n",
              "\n",
              "  @keyframes spin {\n",
              "    0% {\n",
              "      border-color: transparent;\n",
              "      border-bottom-color: var(--fill-color);\n",
              "      border-left-color: var(--fill-color);\n",
              "    }\n",
              "    20% {\n",
              "      border-color: transparent;\n",
              "      border-left-color: var(--fill-color);\n",
              "      border-top-color: var(--fill-color);\n",
              "    }\n",
              "    30% {\n",
              "      border-color: transparent;\n",
              "      border-left-color: var(--fill-color);\n",
              "      border-top-color: var(--fill-color);\n",
              "      border-right-color: var(--fill-color);\n",
              "    }\n",
              "    40% {\n",
              "      border-color: transparent;\n",
              "      border-right-color: var(--fill-color);\n",
              "      border-top-color: var(--fill-color);\n",
              "    }\n",
              "    60% {\n",
              "      border-color: transparent;\n",
              "      border-right-color: var(--fill-color);\n",
              "    }\n",
              "    80% {\n",
              "      border-color: transparent;\n",
              "      border-right-color: var(--fill-color);\n",
              "      border-bottom-color: var(--fill-color);\n",
              "    }\n",
              "    90% {\n",
              "      border-color: transparent;\n",
              "      border-bottom-color: var(--fill-color);\n",
              "    }\n",
              "  }\n",
              "</style>\n",
              "\n",
              "  <script>\n",
              "    async function quickchart(key) {\n",
              "      const quickchartButtonEl =\n",
              "        document.querySelector('#' + key + ' button');\n",
              "      quickchartButtonEl.disabled = true;  // To prevent multiple clicks.\n",
              "      quickchartButtonEl.classList.add('colab-df-spinner');\n",
              "      try {\n",
              "        const charts = await google.colab.kernel.invokeFunction(\n",
              "            'suggestCharts', [key], {});\n",
              "      } catch (error) {\n",
              "        console.error('Error during call to suggestCharts:', error);\n",
              "      }\n",
              "      quickchartButtonEl.classList.remove('colab-df-spinner');\n",
              "      quickchartButtonEl.classList.add('colab-df-quickchart-complete');\n",
              "    }\n",
              "    (() => {\n",
              "      let quickchartButtonEl =\n",
              "        document.querySelector('#df-3a2dff8d-ac82-4ca2-a454-9d58192bb558 button');\n",
              "      quickchartButtonEl.style.display =\n",
              "        google.colab.kernel.accessAllowed ? 'block' : 'none';\n",
              "    })();\n",
              "  </script>\n",
              "</div>\n",
              "\n",
              "    </div>\n",
              "  </div>\n"
            ],
            "application/vnd.google.colaboratory.intrinsic+json": {
              "type": "dataframe",
              "variable_name": "list_data",
              "summary": "{\n  \"name\": \"list_data\",\n  \"rows\": 959,\n  \"fields\": [\n    {\n      \"column\": \"abusive_words\",\n      \"properties\": {\n        \"dtype\": \"string\",\n        \"num_unique_values\": 959,\n        \"samples\": [\n          \"shiz\",\n          \"horny\",\n          \"fatass\"\n        ],\n        \"semantic_type\": \"\",\n        \"description\": \"\"\n      }\n    }\n  ]\n}"
            }
          },
          "metadata": {},
          "execution_count": 41
        }
      ]
    },
    {
      "cell_type": "code",
      "source": [
        "print(f\"num of tweets: {data.shape}\")\n",
        "\n",
        "tweet = list(data['tweet'])\n",
        "labels = list(data['class'])\n",
        "abusive_words = list(list_data['abusive_words'])"
      ],
      "metadata": {
        "colab": {
          "base_uri": "https://localhost:8080/"
        },
        "id": "S-wVNqf1tfRq",
        "outputId": "1ac8e4cc-f327-4b3a-bb96-0b474b1636ae"
      },
      "execution_count": 42,
      "outputs": [
        {
          "output_type": "stream",
          "name": "stdout",
          "text": [
            "num of tweets: (24783, 6)\n"
          ]
        }
      ]
    },
    {
      "cell_type": "code",
      "source": [
        "#3.Data Preprocessing\n",
        "\n",
        "stop_words = set(stopwords.words('english'))\n",
        "# add rt to remove retweet in dataset (noise)\n",
        "stop_words.add(\"rt\")\n",
        "\n",
        "# remove html entity:\n",
        "def remove_entity(raw_text):\n",
        "    entity_regex = r\"&[^\\s;]+;\"\n",
        "    text = re.sub(entity_regex, \"\", raw_text)\n",
        "    return text\n",
        "\n",
        "# change the user tags\n",
        "def change_user(raw_text):\n",
        "    regex = r\"@([^ ]+)\"\n",
        "    text = re.sub(regex, \"user\", raw_text)\n",
        "\n",
        "    return text\n",
        "\n",
        "# remove urls\n",
        "def remove_url(raw_text):\n",
        "    url_regex = r\"(?i)\\b((?:https?://|www\\d{0,3}[.]|[a-z0-9.\\-]+[.][a-z]{2,4}/)(?:[^\\s()<>]+|\\(([^\\s()<>]+|(\\([^\\s()<>]+\\)))*\\))+(?:\\(([^\\s()<>]+|(\\([^\\s()<>]+\\)))*\\)|[^\\s`!()\\[\\]{};:'\\\".,<>?«»“”‘’]))\"\n",
        "    text = re.sub(url_regex, '', raw_text)\n",
        "\n",
        "    return text\n",
        "\n",
        "# remove unnecessary symbols\n",
        "def remove_noise_symbols(raw_text):\n",
        "    text = raw_text.replace('\"', '')\n",
        "    text = text.replace(\"'\", '')\n",
        "    text = text.replace(\"!\", '')\n",
        "    text = text.replace(\"`\", '')\n",
        "    text = text.replace(\"..\", '')\n",
        "\n",
        "    return text\n",
        "\n",
        "# remove stopwords\n",
        "def remove_stopwords(raw_text):\n",
        "    tokenize = nltk.word_tokenize(raw_text)\n",
        "    text = [word for word in tokenize if not word.lower() in stop_words]\n",
        "    text = \" \".join(text)\n",
        "\n",
        "    return text\n",
        "\n",
        "## this function in to clean all the dataset by utilizing all the function above\n",
        "def preprocess(datas):\n",
        "    clean = []\n",
        "    # change the @xxx into \"user\"\n",
        "    clean = [change_user(text) for text in datas]\n",
        "    # remove emojis (specifically unicode emojis)\n",
        "    clean = [remove_entity(text) for text in clean]\n",
        "    # remove urls\n",
        "    clean = [remove_url(text) for text in clean]\n",
        "    # remove trailing stuff\n",
        "    clean = [remove_noise_symbols(text) for text in clean]\n",
        "    # remove stopwords\n",
        "    clean = [remove_stopwords(text) for text in clean]\n",
        "\n",
        "    return clean"
      ],
      "metadata": {
        "id": "FkneiXZTuCMB"
      },
      "execution_count": 8,
      "outputs": []
    },
    {
      "cell_type": "code",
      "source": [
        "clean_tweet = preprocess(tweet)"
      ],
      "metadata": {
        "id": "GyjyZujTwoMt"
      },
      "execution_count": 9,
      "outputs": []
    },
    {
      "cell_type": "code",
      "source": [
        "#4.Train-Test Split\n",
        "X_train, X_test, y_train, y_test = train_test_split(clean_tweet, labels, test_size=0.2, random_state=53)"
      ],
      "metadata": {
        "id": "IPjaILfwygrK"
      },
      "execution_count": 10,
      "outputs": []
    },
    {
      "cell_type": "code",
      "source": [
        "tokenizer = Tokenizer()\n",
        "\n",
        "tokenizer.fit_on_texts(X_train)\n",
        "\n",
        "X_train = tokenizer.texts_to_sequences(X_train)\n",
        "X_test = tokenizer.texts_to_sequences(X_test)\n",
        "\n",
        "# vocabulary size (num of unique words) -> will be used in embedding layer\n",
        "vocab_size = len(tokenizer.word_index) + 1"
      ],
      "metadata": {
        "id": "P6HtGyESzOuU"
      },
      "execution_count": 11,
      "outputs": []
    },
    {
      "cell_type": "code",
      "source": [
        "max_length = max(len(seq) for seq in X_train)\n",
        "\n",
        "# to test an outlier case\n",
        "for x in X_test:\n",
        "    if len(x) > max_length:\n",
        "        print(f\"an outlier detected: {x}\")\n",
        "\n",
        "X_train = pad_sequences(X_train, maxlen = max_length)\n",
        "X_test = pad_sequences(X_test, maxlen = max_length)"
      ],
      "metadata": {
        "id": "goNhhCrmz0U7"
      },
      "execution_count": 12,
      "outputs": []
    },
    {
      "cell_type": "code",
      "source": [
        "y_test = to_categorical(y_test, num_classes=3)\n",
        "y_train = to_categorical(y_train, num_classes=3)"
      ],
      "metadata": {
        "id": "VYHXwMb90D2b"
      },
      "execution_count": 13,
      "outputs": []
    },
    {
      "cell_type": "code",
      "source": [
        "print(f\"num test tweet: {y_test.shape[0]}\")\n",
        "print(f\"num train tweet: {y_train.shape[0]}\")"
      ],
      "metadata": {
        "colab": {
          "base_uri": "https://localhost:8080/"
        },
        "id": "pnFJyim00IFL",
        "outputId": "26d36613-4cab-46be-edd2-7f9ebfbb0e45"
      },
      "execution_count": 14,
      "outputs": [
        {
          "output_type": "stream",
          "name": "stdout",
          "text": [
            "num test tweet: 4957\n",
            "num train tweet: 19826\n"
          ]
        }
      ]
    },
    {
      "cell_type": "code",
      "source": [
        "#5.Model Building\n",
        "def recall(y_true, y_pred):\n",
        "    true_positives = K.sum(K.round(K.clip(y_true * y_pred, 0, 1)))\n",
        "    possible_positives = K.sum(K.round(K.clip(y_true, 0, 1)))\n",
        "    recall = true_positives / (possible_positives + K.epsilon())\n",
        "    return recall\n",
        "\n",
        "def precision(y_true, y_pred):\n",
        "    true_positives = K.sum(K.round(K.clip(y_true * y_pred, 0, 1)))\n",
        "    predicted_positives = K.sum(K.round(K.clip(y_pred, 0, 1)))\n",
        "    precision = true_positives / (predicted_positives + K.epsilon())\n",
        "    return precision\n",
        "\n",
        "def f1(y_true, y_pred):\n",
        "    precisions = precision(y_true, y_pred)\n",
        "    recalls = recall(y_true, y_pred)\n",
        "    return 2*((precisions*recalls)/(precisions+recalls+K.epsilon()))"
      ],
      "metadata": {
        "id": "DFHh95kc4hpk"
      },
      "execution_count": 15,
      "outputs": []
    },
    {
      "cell_type": "code",
      "source": [
        "output_dim = 200\n",
        "\n",
        "# LSTM model architechture (CNN + LSTM)\n",
        "model = Sequential([\n",
        "    # embedding layer is like idk\n",
        "    Embedding(vocab_size, output_dim, input_length=max_length),\n",
        "    # lstm for xxx\n",
        "    LSTM(64, dropout=0.3, recurrent_dropout=0.3),\n",
        "    # dropout to prevent overfitting\n",
        "    Dropout(0.5),\n",
        "    # dense to connect the previous output with current layer\n",
        "    Dense(128, activation=\"relu\"),\n",
        "    # dropout to prevent overfitting\n",
        "    Dropout(0.5),\n",
        "    # this is output layer, with 3 class (0, 1, 2)\n",
        "    Dense(3, activation=\"softmax\"),\n",
        "])\n",
        "\n",
        "model.compile(optimizer='adam', loss='categorical_crossentropy', metrics=['accuracy',f1,precision, recall])"
      ],
      "metadata": {
        "id": "adpYN3cO4__9"
      },
      "execution_count": 16,
      "outputs": []
    },
    {
      "cell_type": "code",
      "source": [
        "# checking the model parameters\n",
        "model.summary()"
      ],
      "metadata": {
        "colab": {
          "base_uri": "https://localhost:8080/"
        },
        "id": "xQaGDdU75JTJ",
        "outputId": "320ec476-3fa5-4a12-d261-ca427f25b3e5"
      },
      "execution_count": 17,
      "outputs": [
        {
          "output_type": "stream",
          "name": "stdout",
          "text": [
            "Model: \"sequential\"\n",
            "_________________________________________________________________\n",
            " Layer (type)                Output Shape              Param #   \n",
            "=================================================================\n",
            " embedding (Embedding)       (None, 28, 200)           3756200   \n",
            "                                                                 \n",
            " lstm (LSTM)                 (None, 64)                67840     \n",
            "                                                                 \n",
            " dropout (Dropout)           (None, 64)                0         \n",
            "                                                                 \n",
            " dense (Dense)               (None, 128)               8320      \n",
            "                                                                 \n",
            " dropout_1 (Dropout)         (None, 128)               0         \n",
            "                                                                 \n",
            " dense_1 (Dense)             (None, 3)                 387       \n",
            "                                                                 \n",
            "=================================================================\n",
            "Total params: 3832747 (14.62 MB)\n",
            "Trainable params: 3832747 (14.62 MB)\n",
            "Non-trainable params: 0 (0.00 Byte)\n",
            "_________________________________________________________________\n"
          ]
        }
      ]
    },
    {
      "cell_type": "code",
      "source": [
        "model_history = model.fit(\n",
        "    X_train,\n",
        "    y_train,\n",
        "    batch_size = 128,\n",
        "    epochs=5,\n",
        "    validation_data=(X_test, y_test)\n",
        ")"
      ],
      "metadata": {
        "colab": {
          "base_uri": "https://localhost:8080/"
        },
        "id": "2KS5ixaO5XOt",
        "outputId": "c271bf4c-6989-4acb-a181-bf2b3ad20bed"
      },
      "execution_count": 18,
      "outputs": [
        {
          "output_type": "stream",
          "name": "stdout",
          "text": [
            "Epoch 1/5\n",
            "155/155 [==============================] - 42s 225ms/step - loss: 0.5518 - accuracy: 0.8091 - f1: 0.7658 - precision: 0.8143 - recall: 0.7360 - val_loss: 0.3550 - val_accuracy: 0.8777 - val_f1: 0.8789 - val_precision: 0.8962 - val_recall: 0.8623\n",
            "Epoch 2/5\n",
            "155/155 [==============================] - 38s 243ms/step - loss: 0.2902 - accuracy: 0.9061 - f1: 0.9065 - precision: 0.9214 - recall: 0.8923 - val_loss: 0.3240 - val_accuracy: 0.8886 - val_f1: 0.8903 - val_precision: 0.9005 - val_recall: 0.8805\n",
            "Epoch 3/5\n",
            "155/155 [==============================] - 37s 237ms/step - loss: 0.1910 - accuracy: 0.9366 - f1: 0.9364 - precision: 0.9453 - recall: 0.9277 - val_loss: 0.3724 - val_accuracy: 0.8804 - val_f1: 0.8803 - val_precision: 0.8869 - val_recall: 0.8739\n",
            "Epoch 4/5\n",
            "155/155 [==============================] - 35s 225ms/step - loss: 0.1269 - accuracy: 0.9567 - f1: 0.9566 - precision: 0.9594 - recall: 0.9539 - val_loss: 0.4317 - val_accuracy: 0.8816 - val_f1: 0.8820 - val_precision: 0.8853 - val_recall: 0.8787\n",
            "Epoch 5/5\n",
            "155/155 [==============================] - 38s 243ms/step - loss: 0.0939 - accuracy: 0.9696 - f1: 0.9696 - precision: 0.9710 - recall: 0.9683 - val_loss: 0.5130 - val_accuracy: 0.8707 - val_f1: 0.8707 - val_precision: 0.8722 - val_recall: 0.8692\n"
          ]
        }
      ]
    },
    {
      "cell_type": "code",
      "source": [
        "print([clean_tweet[100]])"
      ],
      "metadata": {
        "colab": {
          "base_uri": "https://localhost:8080/"
        },
        "id": "3Remue6CuzWO",
        "outputId": "14e3640e-0aac-45e7-d01d-ad0fc3a0039f"
      },
      "execution_count": 19,
      "outputs": [
        {
          "output_type": "stream",
          "name": "stdout",
          "text": [
            "['user LMAOOOOOOOOOOO nigga user bitch want likes depressing shitfoh']\n"
          ]
        }
      ]
    },
    {
      "cell_type": "code",
      "source": [
        "# with open('abuse_detect','wb') as f:\n",
        "#   pickle.dump(model,f)"
      ],
      "metadata": {
        "id": "E-cmlgkd8EWk"
      },
      "execution_count": 20,
      "outputs": []
    },
    {
      "cell_type": "code",
      "source": [
        "# with open('abuse_detect','rb') as f:\n",
        "#   mp=pickle.load(f)"
      ],
      "metadata": {
        "id": "ACtlQpRt8Ixw"
      },
      "execution_count": null,
      "outputs": []
    },
    {
      "cell_type": "markdown",
      "source": [],
      "metadata": {
        "id": "JV09RfT_y1X_"
      }
    },
    {
      "cell_type": "code",
      "source": [
        "from sklearn.metrics import classification_report,confusion_matrix\n",
        "import numpy as np\n",
        "import matplotlib.pyplot as plt\n",
        "import seaborn as sns\n",
        "\n",
        "a = model.predict(X_test)\n",
        "\n",
        "def fun(val):\n",
        "  col = []\n",
        "  for li in val:\n",
        "    col.append(np.argmax(li))\n",
        "  return col\n",
        "\n",
        "y_pred = fun(a)\n",
        "y_true = fun(y_test)\n",
        "\n",
        "# Compute confusion matrix\n",
        "cm = confusion_matrix(y_true, y_pred)\n",
        "\n",
        "# Plot confusion matrix\n",
        "plt.figure(figsize=(8, 6))\n",
        "sns.heatmap(cm, annot=True, fmt=\"d\", cmap=\"Blues\", xticklabels=np.arange(3), yticklabels=np.arange(3))\n",
        "plt.xlabel('Predicted')\n",
        "plt.ylabel('True')\n",
        "plt.title('Confusion Matrix')\n",
        "plt.show()\n"
      ],
      "metadata": {
        "colab": {
          "base_uri": "https://localhost:8080/",
          "height": 582
        },
        "id": "352WwmXuxcYI",
        "outputId": "a3ffd011-4c4c-4ffa-db5c-b2941425b711"
      },
      "execution_count": 22,
      "outputs": [
        {
          "output_type": "stream",
          "name": "stdout",
          "text": [
            "155/155 [==============================] - 5s 23ms/step\n"
          ]
        },
        {
          "output_type": "display_data",
          "data": {
            "text/plain": [
              "<Figure size 800x600 with 2 Axes>"
            ],
            "image/png": "[encoded data removed]"
          },
          "metadata": {}
        }
      ]
    },
    {
      "cell_type": "code",
      "source": [
        "    from sklearn import datasets\n",
        "    from sklearn.tree import DecisionTreeClassifier\n",
        "    from sklearn.model_selection import train_test_split\n",
        "    from sklearn.metrics import classification_report, confusion_matrix"
      ],
      "metadata": {
        "id": "XFHV9zKWu8w7"
      },
      "execution_count": 23,
      "outputs": []
    },
    {
      "cell_type": "code",
      "source": [
        "eval_results1 = model.evaluate(X_test, y_test, batch_size=64)\n",
        "y_pred1 = model.predict(X_test, batch_size=64)\n",
        "y_pred1a = fun(y_pred1)\n",
        "\n",
        "\n",
        "# Generate classification report for batch_size=64\n",
        "print(\"Classification Report for batch_size=64:\")\n",
        "print(classification_report(y_true, y_pred1a))\n",
        "\n",
        "# Evaluate model with batch_size=128\n",
        "eval_results2 = model.evaluate(X_test, y_test, batch_size=128)\n",
        "y_pred2 = model.predict(X_test, batch_size=128)\n",
        "y_pred2a = fun(y_pred2)\n",
        "\n",
        "# Generate classification report for batch_size=128\n",
        "print(\"Classification Report for batch_size=128:\")\n",
        "print(classification_report(y_true, y_pred2a))"
      ],
      "metadata": {
        "colab": {
          "base_uri": "https://localhost:8080/"
        },
        "id": "c5DMChl9MJyj",
        "outputId": "705f123d-700b-4157-c7ab-6fca4e5017d8"
      },
      "execution_count": 24,
      "outputs": [
        {
          "output_type": "stream",
          "name": "stdout",
          "text": [
            "78/78 [==============================] - 2s 20ms/step - loss: 0.5130 - accuracy: 0.8707 - f1: 0.8705 - precision: 0.8720 - recall: 0.8690\n",
            "78/78 [==============================] - 2s 23ms/step\n",
            "Classification Report for batch_size=64:\n",
            "              precision    recall  f1-score   support\n",
            "\n",
            "           0       0.39      0.28      0.33       277\n",
            "           1       0.90      0.95      0.92      3806\n",
            "           2       0.85      0.72      0.78       874\n",
            "\n",
            "    accuracy                           0.87      4957\n",
            "   macro avg       0.71      0.65      0.68      4957\n",
            "weighted avg       0.86      0.87      0.86      4957\n",
            "\n",
            "39/39 [==============================] - 1s 28ms/step - loss: 0.5130 - accuracy: 0.8707 - f1: 0.8707 - precision: 0.8722 - recall: 0.8692\n",
            "39/39 [==============================] - 1s 24ms/step\n",
            "Classification Report for batch_size=128:\n",
            "              precision    recall  f1-score   support\n",
            "\n",
            "           0       0.39      0.28      0.33       277\n",
            "           1       0.90      0.95      0.92      3806\n",
            "           2       0.85      0.72      0.78       874\n",
            "\n",
            "    accuracy                           0.87      4957\n",
            "   macro avg       0.71      0.65      0.68      4957\n",
            "weighted avg       0.86      0.87      0.86      4957\n",
            "\n"
          ]
        }
      ]
    },
    {
      "cell_type": "code",
      "source": [
        "print(classification_report(y_true, y_pred))"
      ],
      "metadata": {
        "colab": {
          "base_uri": "https://localhost:8080/"
        },
        "id": "GCihSZOfvDZu",
        "outputId": "fdb9ceb4-b86a-4fec-b074-52b40496e4f8"
      },
      "execution_count": 25,
      "outputs": [
        {
          "output_type": "stream",
          "name": "stdout",
          "text": [
            "              precision    recall  f1-score   support\n",
            "\n",
            "           0       0.39      0.28      0.33       277\n",
            "           1       0.90      0.95      0.92      3806\n",
            "           2       0.85      0.72      0.78       874\n",
            "\n",
            "    accuracy                           0.87      4957\n",
            "   macro avg       0.71      0.65      0.68      4957\n",
            "weighted avg       0.86      0.87      0.86      4957\n",
            "\n"
          ]
        }
      ]
    },
    {
      "cell_type": "code",
      "source": [
        "  print(confusion_matrix(y_true, y_pred))"
      ],
      "metadata": {
        "colab": {
          "base_uri": "https://localhost:8080/"
        },
        "id": "wxwqTA8euPaY",
        "outputId": "8f03eaa6-c4f8-424b-aad4-a8cf216d7b10"
      },
      "execution_count": 26,
      "outputs": [
        {
          "output_type": "stream",
          "name": "stdout",
          "text": [
            "[[  77  179   21]\n",
            " [ 104 3613   89]\n",
            " [  14  234  626]]\n"
          ]
        }
      ]
    },
    {
      "cell_type": "code",
      "source": [
        "# Function to predict and mark abusive words with asterisks\n",
        "def predict_and_mark(text):\n",
        "    text_seq = tokenizer.texts_to_sequences([preprocess(text)])\n",
        "    text_padded = pad_sequences(text_seq, maxlen=max_length, padding='post')\n",
        "    prediction = model.predict(text_padded).argmax()\n",
        "\n",
        "    if prediction<=2:\n",
        "        marked_text = ''.join(['* ' if word in abusive_words else (word+\" \") for word in text.split()])\n",
        "    else:\n",
        "        marked_text = text\n",
        "\n",
        "    return marked_text\n",
        "\n"
      ],
      "metadata": {
        "id": "S5Q5S8AIPsuv"
      },
      "execution_count": 43,
      "outputs": []
    },
    {
      "cell_type": "code",
      "source": [
        "# Example usage\n",
        "text_to_check = input(\"Enter Text:\")\n",
        "marked_text = predict_and_mark(text_to_check)\n",
        "# print(f\"Original text: {text_to_check}\")\n",
        "print(f\"Marked text: {marked_text}\")"
      ],
      "metadata": {
        "colab": {
          "base_uri": "https://localhost:8080/"
        },
        "id": "AwTB48wBPwDP",
        "outputId": "c1673fcc-aa8c-4903-8bef-0a56b3dbf71f"
      },
      "execution_count": 45,
      "outputs": [
        {
          "output_type": "stream",
          "name": "stdout",
          "text": [
            "Enter Text:user LMAOOOOOOOOOOO nigga user bitch want likes depressing shitfoh\n",
            "1/1 [==============================] - 0s 25ms/step\n",
            "Marked text: user LMAOOOOOOOOOOO * user * want likes depressing shitfoh \n"
          ]
        }
      ]
    }
  ]
}